{
 "cells": [
  {
   "cell_type": "code",
   "execution_count": 177,
   "id": "505efcc4-d982-4bff-a23a-9d3437294551",
   "metadata": {},
   "outputs": [],
   "source": [
    "#この章で使用するライブラリ\n",
    "import numpy as np\n",
    "import numpy.random as random\n",
    "import scipy as sp\n",
    "import pandas as pd\n",
    "from pandas import Series, DataFrame"
   ]
  },
  {
   "cell_type": "code",
   "execution_count": 178,
   "id": "36714cd4-a228-447a-84ea-bc56aefd4aa0",
   "metadata": {},
   "outputs": [
    {
     "data": {
      "text/plain": [
       "'%.3f'"
      ]
     },
     "execution_count": 178,
     "metadata": {},
     "output_type": "execute_result"
    }
   ],
   "source": [
    "# 可視化ライブラリ\n",
    "import matplotlib.pyplot as plt\n",
    "import matplotlib as mpl\n",
    "import seaborn as sns\n",
    "%matplotlib inline\n",
    "\n",
    "#小数点3位までの表示\n",
    "%precision 3"
   ]
  },
  {
   "cell_type": "code",
   "execution_count": 179,
   "id": "b8991dec-435e-43e5-a8c3-74d9ddeb6d49",
   "metadata": {},
   "outputs": [
    {
     "data": {
      "text/plain": [
       "array([ 9,  2,  3,  4, 10,  6,  7,  8,  1,  5])"
      ]
     },
     "execution_count": 179,
     "metadata": {},
     "output_type": "execute_result"
    }
   ],
   "source": [
    "data = np.array([9,2,3,4,10,6,7,8,1,5])\n",
    "data"
   ]
  },
  {
   "cell_type": "code",
   "execution_count": 180,
   "id": "e2f141df-6a6c-4cd8-a824-c49ee2ac9a04",
   "metadata": {},
   "outputs": [
    {
     "data": {
      "text/plain": [
       "dtype('int64')"
      ]
     },
     "execution_count": 180,
     "metadata": {},
     "output_type": "execute_result"
    }
   ],
   "source": [
    "data.dtype"
   ]
  },
  {
   "cell_type": "code",
   "execution_count": 181,
   "id": "4cdfd33e-1163-4900-88a1-38ab23990421",
   "metadata": {},
   "outputs": [
    {
     "name": "stdout",
     "output_type": "stream",
     "text": [
      "次元数: 1\n",
      "要素数: 10\n"
     ]
    }
   ],
   "source": [
    "print('次元数:', data.ndim)\n",
    "print('要素数:', data.size)"
   ]
  },
  {
   "cell_type": "code",
   "execution_count": 182,
   "id": "15edc30d-e7af-460a-b284-bf9993c7ae5d",
   "metadata": {},
   "outputs": [
    {
     "data": {
      "text/plain": [
       "array([18,  4,  6,  8, 20, 12, 14, 16,  2, 10])"
      ]
     },
     "execution_count": 182,
     "metadata": {},
     "output_type": "execute_result"
    }
   ],
   "source": [
    "data * 2"
   ]
  },
  {
   "cell_type": "code",
   "execution_count": 183,
   "id": "ae8b33a7-6248-491d-8021-c705a9822115",
   "metadata": {},
   "outputs": [
    {
     "name": "stdout",
     "output_type": "stream",
     "text": [
      "掛け算: [10 18 24 28 30 30 28 24 18 10]\n"
     ]
    }
   ],
   "source": [
    "# .arrayはメソッド（関数）なので中括弧が必要\n",
    "print('掛け算:',np.array([1,2,3,4,5,6,7,8,9,10]) * np.array([10,9,8,7,6,5,4,3,2,1]))"
   ]
  },
  {
   "cell_type": "code",
   "execution_count": 184,
   "id": "da116717-d30a-448d-8a78-51b14e90dfe4",
   "metadata": {},
   "outputs": [
    {
     "name": "stdout",
     "output_type": "stream",
     "text": [
      "累乗: [  1   4   9  16  25  36  49  64  81 100]\n"
     ]
    }
   ],
   "source": [
    "print('累乗:',np.array([1,2,3,4,5,6,7,8,9,10]) ** 2)"
   ]
  },
  {
   "cell_type": "code",
   "execution_count": 185,
   "id": "08c6db95-c73a-47d9-a58f-5806f53517c4",
   "metadata": {},
   "outputs": [
    {
     "name": "stdout",
     "output_type": "stream",
     "text": [
      "割り算: [ 0.1    0.222  0.375  0.571  0.833  1.2    1.75   2.667  4.5   10.   ]\n"
     ]
    }
   ],
   "source": [
    "print('割り算:',np.array([1,2,3,4,5,6,7,8,9,10]) / np.array([10,9,8,7,6,5,4,3,2,1]))"
   ]
  },
  {
   "cell_type": "code",
   "execution_count": 186,
   "id": "5b55c469-aa8a-4886-8179-1066eff363a4",
   "metadata": {},
   "outputs": [
    {
     "name": "stdout",
     "output_type": "stream",
     "text": [
      "[ 9  2  3  4 10  6  7  8  1  5]\n"
     ]
    },
    {
     "data": {
      "text/plain": [
       "array([ 1,  2,  3,  4,  5,  6,  7,  8,  9, 10])"
      ]
     },
     "execution_count": 186,
     "metadata": {},
     "output_type": "execute_result"
    }
   ],
   "source": [
    "print(data)\n",
    "data.sort()\n",
    "data"
   ]
  },
  {
   "cell_type": "code",
   "execution_count": 187,
   "id": "607ee433-8be7-43c3-83b4-37522b544694",
   "metadata": {},
   "outputs": [
    {
     "data": {
      "text/plain": [
       "array([10,  9,  8,  7,  6,  5,  4,  3,  2,  1])"
      ]
     },
     "execution_count": 187,
     "metadata": {},
     "output_type": "execute_result"
    }
   ],
   "source": [
    "#逆順のソート\n",
    "#[n,m,s] n番目からm-1番目をsずつ飛ばして取り出す。n,mを省略すると全ての意味になる\n",
    "data[::-1].sort()\n",
    "data"
   ]
  },
  {
   "cell_type": "code",
   "execution_count": 188,
   "id": "6d3cea1d-c6a5-4fd3-97c8-70182169f33c",
   "metadata": {},
   "outputs": [
    {
     "name": "stdout",
     "output_type": "stream",
     "text": [
      "min: 1\n",
      "max: 10\n",
      "sum: 55\n",
      "cum: [10 19 27 34 40 45 49 52 54 55]\n",
      "ratio: [0.182 0.345 0.491 0.618 0.727 0.818 0.891 0.945 0.982 1.   ]\n"
     ]
    }
   ],
   "source": [
    "#最小値\n",
    "print('min:', data.min())\n",
    "#最大値\n",
    "print('max:', data.max())\n",
    "#合計\n",
    "print('sum:', data.sum())\n",
    "#積み上げ\n",
    "print('cum:', data.cumsum())\n",
    "#積み上げ割合\n",
    "print('ratio:', data.cumsum()/ data.sum())"
   ]
  },
  {
   "cell_type": "code",
   "execution_count": 189,
   "id": "e15ef5f8-8da0-4996-abb0-6ed196b45d83",
   "metadata": {},
   "outputs": [
    {
     "name": "stdout",
     "output_type": "stream",
     "text": [
      "乱数10個の配列: [ 1.764  0.4    0.979  2.241  1.868 -0.977  0.95  -0.151 -0.103  0.411]\n"
     ]
    }
   ],
   "source": [
    "#乱数\n",
    "random.seed(0)\n",
    "\n",
    "#正規分布(平均0,分散1）の乱数を10個発生\n",
    "rnd_data = random.randn(10)\n",
    "\n",
    "print('乱数10個の配列:', rnd_data)"
   ]
  },
  {
   "cell_type": "code",
   "execution_count": 190,
   "id": "992d49d7-2eff-4707-b785-971a00dbc25f",
   "metadata": {},
   "outputs": [
    {
     "name": "stdout",
     "output_type": "stream",
     "text": [
      "[ 7  8  8  1  2  6  5  1  5 10]\n",
      "[10  2  7  8  3  1  6  5  9  4]\n"
     ]
    }
   ],
   "source": [
    "#データのランダム抽出\n",
    "data = np.array([9,2,3,4,10,6,7,8,1,5])\n",
    "print(random.choice(data, 10))\n",
    "print(random.choice(data, 10, replace=False))"
   ]
  },
  {
   "cell_type": "code",
   "execution_count": 202,
   "id": "6d46f67a-35e3-44c5-a0cc-98e829194780",
   "metadata": {},
   "outputs": [],
   "source": [
    "# #column\n",
    "# #超高速なnumpy!!\n",
    "\n",
    "# N = 10 ** 6\n",
    "# #\"_\"と書くのはその後に変数を使用しないときの慣習\n",
    "# normal_data = [random.random() for _ in range(N)]\n",
    "\n",
    "# #numpy ver.\n",
    "# nunpy_random_data = np.array(normal_data)\n",
    "\n",
    "# #普通の処理\n",
    "# %timeit sum(normal_data)\n",
    "\n",
    "# #numpyの処理\n",
    "# %timeit np.sum(nunpy_random_data)"
   ]
  },
  {
   "cell_type": "code",
   "execution_count": 203,
   "id": "93581d13-fb4d-4a88-b353-545bd267086f",
   "metadata": {},
   "outputs": [
    {
     "data": {
      "text/plain": [
       "array([0, 1, 2, 3, 4, 5, 6, 7, 8])"
      ]
     },
     "execution_count": 203,
     "metadata": {},
     "output_type": "execute_result"
    }
   ],
   "source": [
    "#ここからは行列\n",
    "np.arange(9)"
   ]
  },
  {
   "cell_type": "code",
   "execution_count": 204,
   "id": "190ec190-b98d-4b6b-8001-cc10ee2f95cd",
   "metadata": {},
   "outputs": [
    {
     "name": "stdout",
     "output_type": "stream",
     "text": [
      "[[0 1 2]\n",
      " [3 4 5]\n",
      " [6 7 8]]\n"
     ]
    }
   ],
   "source": [
    "array1 = np.arange(9).reshape(3,3)\n",
    "print(array1)"
   ]
  },
  {
   "cell_type": "code",
   "execution_count": 205,
   "id": "d004d559-c05b-4875-b122-df64d46b2c4b",
   "metadata": {},
   "outputs": [
    {
     "data": {
      "text/plain": [
       "array([0, 1, 2])"
      ]
     },
     "execution_count": 205,
     "metadata": {},
     "output_type": "execute_result"
    }
   ],
   "source": [
    "#1行目\n",
    "array1[0,:]"
   ]
  },
  {
   "cell_type": "code",
   "execution_count": 206,
   "id": "9f3786ce-8274-48db-b4e6-466b312bd6cc",
   "metadata": {},
   "outputs": [
    {
     "data": {
      "text/plain": [
       "array([0, 3, 6])"
      ]
     },
     "execution_count": 206,
     "metadata": {},
     "output_type": "execute_result"
    }
   ],
   "source": [
    "#1列目\n",
    "array1[:,0]"
   ]
  },
  {
   "cell_type": "code",
   "execution_count": 207,
   "id": "1c80f2fe-c595-402e-b351-b1176b8142a8",
   "metadata": {},
   "outputs": [
    {
     "name": "stdout",
     "output_type": "stream",
     "text": [
      "[[ 9 10 11]\n",
      " [12 13 14]\n",
      " [15 16 17]]\n"
     ]
    }
   ],
   "source": [
    "array2 = np.arange(9,18).reshape(3,3)\n",
    "print(array2)"
   ]
  },
  {
   "cell_type": "code",
   "execution_count": 208,
   "id": "9307d8cd-5316-4835-bbbf-17e5eb432bf8",
   "metadata": {},
   "outputs": [
    {
     "data": {
      "text/plain": [
       "array([[ 42,  45,  48],\n",
       "       [150, 162, 174],\n",
       "       [258, 279, 300]])"
      ]
     },
     "execution_count": 208,
     "metadata": {},
     "output_type": "execute_result"
    }
   ],
   "source": [
    "#行列の積（内積＝dot product）\n",
    "np.dot(array1,array2)"
   ]
  },
  {
   "cell_type": "code",
   "execution_count": 209,
   "id": "55676cd4-7b30-46ae-9701-89548e7cda5e",
   "metadata": {},
   "outputs": [
    {
     "data": {
      "text/plain": [
       "array([[  0,  10,  22],\n",
       "       [ 36,  52,  70],\n",
       "       [ 90, 112, 136]])"
      ]
     },
     "execution_count": 209,
     "metadata": {},
     "output_type": "execute_result"
    }
   ],
   "source": [
    "#要素同士の積\n",
    "array1 * array2"
   ]
  },
  {
   "cell_type": "code",
   "execution_count": 210,
   "id": "3b21809b-dd15-4648-8c90-8311aa2058f1",
   "metadata": {},
   "outputs": [
    {
     "name": "stdout",
     "output_type": "stream",
     "text": [
      "[[0 0 0]\n",
      " [0 0 0]]\n",
      "[[1. 1. 1.]\n",
      " [1. 1. 1.]]\n"
     ]
    }
   ],
   "source": [
    "#要素が0や1の行列を作る\n",
    "print(np.zeros((2,3), dtype = np.int64))\n",
    "print(np.ones((2,3), dtype = np.float64))"
   ]
  },
  {
   "cell_type": "code",
   "execution_count": 214,
   "id": "0807cb1d-de30-4384-8ef1-ace9ebe5cf36",
   "metadata": {},
   "outputs": [
    {
     "name": "stdout",
     "output_type": "stream",
     "text": [
      "1275\n"
     ]
    }
   ],
   "source": [
    "#練習問題2-1\n",
    "array21 = np.array([i for i in range(51)])\n",
    "print(array03.sum())"
   ]
  },
  {
   "cell_type": "code",
   "execution_count": 215,
   "id": "b6127870-32d3-4018-8d4e-b5c47d2bead2",
   "metadata": {},
   "outputs": [
    {
     "name": "stdout",
     "output_type": "stream",
     "text": [
      "最大値 : 1.6811463415674608,最小値 : -2.0734877175678044, 合計 : -5.547306495698986\n",
      "[-1.517 -0.623  0.21  -0.056  1.681 -1.075 -0.23  -2.073 -0.474 -1.392]\n"
     ]
    }
   ],
   "source": [
    "#練習問題2-2:正規分布に基づく乱数生成\n",
    "array22 = random.randn(10)\n",
    "print('最大値 : {0},最小値 : {1}, 合計 : {2}'.format(array22.max(), array22.min(), array22.sum()))\n",
    "print(array22)"
   ]
  },
  {
   "cell_type": "code",
   "execution_count": 216,
   "id": "45e635dc-1961-4f56-8385-73a29183146d",
   "metadata": {},
   "outputs": [
    {
     "name": "stdout",
     "output_type": "stream",
     "text": [
      "[[3 3 3]\n",
      " [3 3 3]\n",
      " [3 3 3]]\n"
     ]
    }
   ],
   "source": [
    "#練習問題2-3 : 行列を作成し、要素を2乗してみよう\n",
    "array23 = np.array([3 for _ in range(9)]).reshape(3,3)\n",
    "print(array23)"
   ]
  },
  {
   "cell_type": "code",
   "execution_count": 217,
   "id": "a960ebdf-9037-4b96-8899-4b72efca77aa",
   "metadata": {},
   "outputs": [
    {
     "data": {
      "text/plain": [
       "array([[9, 9, 9],\n",
       "       [9, 9, 9],\n",
       "       [9, 9, 9]])"
      ]
     },
     "execution_count": 217,
     "metadata": {},
     "output_type": "execute_result"
    }
   ],
   "source": [
    "array23 ** 2"
   ]
  },
  {
   "cell_type": "code",
   "execution_count": null,
   "id": "c3e807bb-ecfd-4d30-bf41-e109321306be",
   "metadata": {},
   "outputs": [],
   "source": []
  },
  {
   "cell_type": "code",
   "execution_count": null,
   "id": "54a2b3dc-1c54-4ec4-b649-3384f6fd721a",
   "metadata": {},
   "outputs": [],
   "source": []
  }
 ],
 "metadata": {
  "kernelspec": {
   "display_name": "Python 3 (ipykernel)",
   "language": "python",
   "name": "python3"
  },
  "language_info": {
   "codemirror_mode": {
    "name": "ipython",
    "version": 3
   },
   "file_extension": ".py",
   "mimetype": "text/x-python",
   "name": "python",
   "nbconvert_exporter": "python",
   "pygments_lexer": "ipython3",
   "version": "3.11.7"
  }
 },
 "nbformat": 4,
 "nbformat_minor": 5
}
