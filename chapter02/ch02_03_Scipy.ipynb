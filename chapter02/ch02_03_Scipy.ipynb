{
 "cells": [
  {
   "cell_type": "markdown",
   "id": "88a0e389-e8f5-40f3-aca3-772dcaadad57",
   "metadata": {},
   "source": [
    "# 2-3 Scipyの基礎\n",
    "## 2-3-1 Scipyのライブラリのインポート"
   ]
  },
  {
   "cell_type": "code",
   "execution_count": 2,
   "id": "f25e2d8b-d6f1-4ff0-b13e-07516f24836a",
   "metadata": {},
   "outputs": [
    {
     "data": {
      "text/plain": [
       "'%.3f'"
      ]
     },
     "execution_count": 2,
     "metadata": {},
     "output_type": "execute_result"
    }
   ],
   "source": [
    "#この章で使用するライブラリ\n",
    "import numpy as np\n",
    "import numpy.random as random\n",
    "import scipy as sp\n",
    "import pandas as pd\n",
    "from pandas import Series, DataFrame\n",
    "\n",
    "# 可視化ライブラリ\n",
    "import matplotlib.pyplot as plt\n",
    "import matplotlib as mpl\n",
    "import seaborn as sns\n",
    "%matplotlib inline\n",
    "\n",
    "#小数点3位までの表示\n",
    "%precision 3"
   ]
  },
  {
   "cell_type": "markdown",
   "id": "2a9a5bdb-d874-49cf-b53d-49b59444dd20",
   "metadata": {},
   "source": [
    "## 2-3-2 行列計算\n",
    "### 2-1 行列式と逆行列の計算"
   ]
  },
  {
   "cell_type": "code",
   "execution_count": 4,
   "id": "975ba27a-ef90-443e-8c7a-ddae58cc78f7",
   "metadata": {},
   "outputs": [],
   "source": [
    "#線形代数用のライブラリ\n",
    "import scipy.linalg as linalg\n",
    "\n",
    "#最適化計算(最小値）用の関数\n",
    "from scipy.optimize import minimize_scalar"
   ]
  },
  {
   "cell_type": "code",
   "execution_count": 5,
   "id": "7130cd87-bb86-4258-aca1-a1a410ce179b",
   "metadata": {},
   "outputs": [
    {
     "name": "stdout",
     "output_type": "stream",
     "text": [
      "行列式\n",
      "-4.0\n"
     ]
    }
   ],
   "source": [
    "matrix = np.array([[1,-1,-1],[-1,1,-1],[-1,-1,1]])\n",
    "\n",
    "#行列式(determinant)\n",
    "print('行列式')\n",
    "print(linalg.det(matrix))"
   ]
  },
  {
   "cell_type": "code",
   "execution_count": 6,
   "id": "f6106530-dec3-44c6-b9fb-281940b7322b",
   "metadata": {},
   "outputs": [
    {
     "name": "stdout",
     "output_type": "stream",
     "text": [
      "[[ 0.  -0.5 -0.5]\n",
      " [-0.5 -0.  -0.5]\n",
      " [-0.5 -0.5  0. ]]\n"
     ]
    }
   ],
   "source": [
    "#逆行列(inverse matrix)\n",
    "print(linalg.inv(matrix))"
   ]
  },
  {
   "cell_type": "code",
   "execution_count": 7,
   "id": "4d90bfbd-f655-4aeb-ac93-ceb5cedf086d",
   "metadata": {},
   "outputs": [
    {
     "name": "stdout",
     "output_type": "stream",
     "text": [
      "[[1. 0. 0.]\n",
      " [0. 1. 0.]\n",
      " [0. 0. 1.]]\n"
     ]
    }
   ],
   "source": [
    "#元の行列と逆行列の積は単位行列のはず\n",
    "print(matrix.dot(linalg.inv(matrix)))"
   ]
  },
  {
   "cell_type": "markdown",
   "id": "edc57506-aaca-478c-8dae-5d8792d305cd",
   "metadata": {},
   "source": [
    "### 2-2 固有値と固有ベクトル"
   ]
  },
  {
   "cell_type": "code",
   "execution_count": 17,
   "id": "41e69ff3-9f52-48c9-9e30-39bf0ea8652a",
   "metadata": {},
   "outputs": [
    {
     "name": "stdout",
     "output_type": "stream",
     "text": [
      "固有値\n",
      "[ 6.   +0.j -1.414+0.j  1.414+0.j]\n",
      "固有ベクトル\n",
      "[[-0.577 -0.722  0.16 ]\n",
      " [-0.577 -0.143 -0.811]\n",
      " [-0.577  0.677  0.563]]\n"
     ]
    }
   ],
   "source": [
    "# 固有値を英語でeigenvalue,固有ベクトルをeigenvectorという\n",
    "eig_value, eig_vector = linalg.eig(matrix)\n",
    "\n",
    "print ('固有値')\n",
    "print (eig_value)\n",
    "print ('固有ベクトル')\n",
    "print (eig_vector)"
   ]
  },
  {
   "cell_type": "markdown",
   "id": "41aa8107-fda2-4d53-a2d2-78294f1b70eb",
   "metadata": {},
   "source": [
    "## 2-3-3 ニュートン法\n",
    "### 3-1 方程式の解を求める"
   ]
  },
  {
   "cell_type": "code",
   "execution_count": 18,
   "id": "fb562344-60d3-4e01-ac49-337bb9fdb2b1",
   "metadata": {},
   "outputs": [
    {
     "name": "stdout",
     "output_type": "stream",
     "text": [
      "-0.9999999852953906\n"
     ]
    }
   ],
   "source": [
    "#ニュートン法\n",
    "\n",
    "#関数の定義\n",
    "def my_function(x):\n",
    "    return (x ** 2 + 2 * x + 1)\n",
    "\n",
    "#ニュートン法の読み込み\n",
    "from scipy.optimize import newton\n",
    "\n",
    "#計算実行\n",
    "print(newton(my_function, 0))"
   ]
  },
  {
   "cell_type": "markdown",
   "id": "073cb5b0-8611-43c8-9fef-d4c4d5ef53d2",
   "metadata": {},
   "source": [
    "### 3-2 最小値を求める"
   ]
  },
  {
   "cell_type": "code",
   "execution_count": 19,
   "id": "9eb68308-2ea5-47a6-97a6-8c0a6663a316",
   "metadata": {},
   "outputs": [
    {
     "name": "stdout",
     "output_type": "stream",
     "text": [
      " message: \n",
      "          Optimization terminated successfully;\n",
      "          The returned value satisfies the termination criteria\n",
      "          (using xtol = 1.48e-08 )\n",
      " success: True\n",
      "     fun: 0.0\n",
      "       x: -1.0000000000000002\n",
      "     nit: 4\n",
      "    nfev: 8\n"
     ]
    }
   ],
   "source": [
    "#最小値を求める : brent法を利用\n",
    "print(minimize_scalar(my_function, method = 'Brent'))"
   ]
  },
  {
   "cell_type": "markdown",
   "id": "26b76273-a1e6-45c7-a831-d2492f3590c6",
   "metadata": {},
   "source": [
    "[\"根の探索アルゴリズム\"というこちらのqiitaの記事がよくまとまっている](https://qiita.com/nariaki3551/items/8694eee8793f88e89f41)\n",
    "\n",
    "## ここから下は練習問題"
   ]
  },
  {
   "cell_type": "code",
   "execution_count": 20,
   "id": "90ba8893-f74c-4a75-a28c-258813e46961",
   "metadata": {},
   "outputs": [
    {
     "name": "stdout",
     "output_type": "stream",
     "text": [
      "[[1 2 3]\n",
      " [1 3 2]\n",
      " [3 1 2]]\n",
      "行列式 :  -12.000000000000002\n"
     ]
    }
   ],
   "source": [
    "#練習問題2-4\n",
    "matrix = np.array([[1,2,3],[1,3,2],[3,1,2]])\n",
    "print(matrix)\n",
    "print(\"行列式 : \",linalg.det(matrix))"
   ]
  },
  {
   "cell_type": "code",
   "execution_count": 21,
   "id": "1ef6ea5c-5376-47d6-b90e-70b6fab50346",
   "metadata": {},
   "outputs": [
    {
     "name": "stdout",
     "output_type": "stream",
     "text": [
      "逆行列 :  [[-0.333  0.083  0.417]\n",
      " [-0.333  0.583 -0.083]\n",
      " [ 0.667 -0.417 -0.083]]\n",
      "固有値 :  [ 6.   +0.j -1.414+0.j  1.414+0.j]\n",
      "固有ベクトル :\n",
      "[[-0.577 -0.722  0.16 ]\n",
      " [-0.577 -0.143 -0.811]\n",
      " [-0.577  0.677  0.563]]\n"
     ]
    }
   ],
   "source": [
    "#練習問題2-5\n",
    "print('逆行列 : ', linalg.inv(matrix))\n",
    "eigenvalues, eigenvectors = linalg.eig(matrix)\n",
    "print('固有値 : ', eigenvalues)\n",
    "print('固有ベクトル :')\n",
    "print(eigenvectors)"
   ]
  },
  {
   "cell_type": "code",
   "execution_count": 22,
   "id": "f54035ad-8938-4136-99b3-559c34adf0dd",
   "metadata": {},
   "outputs": [
    {
     "name": "stdout",
     "output_type": "stream",
     "text": [
      "-0.45339765151640365\n"
     ]
    }
   ],
   "source": [
    "#練習問題2-6\n",
    "def ft_2_6(x):\n",
    "    return (x**3 + 2*x + 1)\n",
    "\n",
    "print(newton(ft_2_6, 0))"
   ]
  },
  {
   "cell_type": "code",
   "execution_count": null,
   "id": "67b3b38f-72a0-4d78-ba57-ef05980e19b0",
   "metadata": {},
   "outputs": [],
   "source": []
  },
  {
   "cell_type": "code",
   "execution_count": null,
   "id": "2f9758b0-e30e-4af1-aba5-1b0e549323a4",
   "metadata": {},
   "outputs": [],
   "source": []
  },
  {
   "cell_type": "code",
   "execution_count": null,
   "id": "c987c9dc-c14b-48ee-b156-84794f076297",
   "metadata": {},
   "outputs": [],
   "source": []
  }
 ],
 "metadata": {
  "kernelspec": {
   "display_name": "Python 3 (ipykernel)",
   "language": "python",
   "name": "python3"
  },
  "language_info": {
   "codemirror_mode": {
    "name": "ipython",
    "version": 3
   },
   "file_extension": ".py",
   "mimetype": "text/x-python",
   "name": "python",
   "nbconvert_exporter": "python",
   "pygments_lexer": "ipython3",
   "version": "3.11.7"
  }
 },
 "nbformat": 4,
 "nbformat_minor": 5
}
