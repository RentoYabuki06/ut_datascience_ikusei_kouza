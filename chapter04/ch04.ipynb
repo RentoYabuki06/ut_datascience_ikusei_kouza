{
 "cells": [
  {
   "cell_type": "markdown",
   "id": "c86818bb-0556-4959-8b1c-bf9e6577df82",
   "metadata": {},
   "source": [
    "# 4-1 確率と統計を学ぶ準備\n",
    "## 4-1-1 この章の前提知識\n",
    "## 4-1-2 この章で使うライブラリのインポート"
   ]
  },
  {
   "cell_type": "code",
   "execution_count": 10,
   "id": "da1013cf-33c4-46b6-8538-8d0b53b50287",
   "metadata": {},
   "outputs": [],
   "source": [
    "import numpy as np\n",
    "import scipy as sp\n",
    "import pandas as pd\n",
    "from pandas import Series, DataFrame\n",
    "\n",
    "#可視化ライブラリ\n",
    "import matplotlib.pyplot as plt\n",
    "import matplotlib as mpl\n",
    "import seaborn as sns\n",
    "\n",
    "#小数第3位まで表示\n",
    "%matplotlib inline\n",
    "%precision 3\n",
    "\n",
    "#ランダムシードの固定\n",
    "np.random.seed(0)"
   ]
  },
  {
   "cell_type": "markdown",
   "id": "307ba3ed-db94-41db-a9bc-1dcd33b59051",
   "metadata": {},
   "source": [
    "# 4-2 確率\n",
    "## 4-2-1 数学的確率"
   ]
  },
  {
   "cell_type": "code",
   "execution_count": 11,
   "id": "53d8e8b4-815c-47ef-b8c5-98348a16e85f",
   "metadata": {},
   "outputs": [],
   "source": [
    "# サイコロが取りうる値を配列に格納\n",
    "dice_data = np.array([1,2,3,4,5,6])"
   ]
  },
  {
   "cell_type": "markdown",
   "id": "f48c6e42-62b9-41b9-84db-d7f55ede6c13",
   "metadata": {},
   "source": [
    "### 1-1 事象"
   ]
  },
  {
   "cell_type": "code",
   "execution_count": 14,
   "id": "d3321cb9-96f7-46cd-9aea-9acf8006f6da",
   "metadata": {},
   "outputs": [
    {
     "name": "stdout",
     "output_type": "stream",
     "text": [
      "一つだけランダムに抽出： [4]\n"
     ]
    }
   ],
   "source": [
    "print('一つだけランダムに抽出：', np.random.choice(dice_data, 1))"
   ]
  },
  {
   "cell_type": "markdown",
   "id": "829f911f-5db2-45a7-aad0-ec80bb123991",
   "metadata": {},
   "source": [
    "### 1-2 空事象\n",
    "### 1-３ 余事象\n",
    "### 1-4 積事象と和事象\n",
    "### 1-5 確率の計算"
   ]
  },
  {
   "cell_type": "markdown",
   "id": "4a0d027e-bacd-44d6-a103-0f1e786b4559",
   "metadata": {},
   "source": [
    "## 4-2-2 統計的確率"
   ]
  },
  {
   "cell_type": "code",
   "execution_count": 22,
   "id": "309aa535-ee59-46b6-aeca-fc5b89804977",
   "metadata": {},
   "outputs": [
    {
     "name": "stdout",
     "output_type": "stream",
     "text": [
      "1 が出る確率は 0.148\n",
      "2 が出る確率は 0.166\n",
      "3 が出る確率は 0.164\n",
      "4 が出る確率は 0.189\n",
      "5 が出る確率は 0.16\n",
      "6 が出る確率は 0.173\n"
     ]
    }
   ],
   "source": [
    "# サイコロを1000回振ってみる\n",
    "calc_steps = 1000\n",
    "\n",
    "# 1~6のデータの中から、1000回の抽出を実施\n",
    "dice_rolls = np.random.choice(dice_data, calc_steps)\n",
    "\n",
    "# それぞれの数字の確率を計算\n",
    "for i in range(1,7):\n",
    "    p = len(dice_rolls[dice_rolls==i]) / calc_steps\n",
    "    print(i, 'が出る確率は', p)"
   ]
  },
  {
   "cell_type": "markdown",
   "id": "8ea913e1-6802-4901-bdcd-68598f76cc90",
   "metadata": {},
   "source": [
    "## 4-2-3 条件付き確率と乗法定理"
   ]
  },
  {
   "cell_type": "code",
   "execution_count": null,
   "id": "865ea185-de5c-429e-ad77-c84b88882814",
   "metadata": {},
   "outputs": [],
   "source": []
  }
 ],
 "metadata": {
  "kernelspec": {
   "display_name": "Python 3 (ipykernel)",
   "language": "python",
   "name": "python3"
  },
  "language_info": {
   "codemirror_mode": {
    "name": "ipython",
    "version": 3
   },
   "file_extension": ".py",
   "mimetype": "text/x-python",
   "name": "python",
   "nbconvert_exporter": "python",
   "pygments_lexer": "ipython3",
   "version": "3.12.3"
  }
 },
 "nbformat": 4,
 "nbformat_minor": 5
}
