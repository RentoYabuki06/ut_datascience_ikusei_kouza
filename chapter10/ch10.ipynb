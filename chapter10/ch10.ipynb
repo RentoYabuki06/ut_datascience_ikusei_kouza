{
 "cells": [
  {
   "cell_type": "markdown",
   "metadata": {},
   "source": [
    "# Chapter 10 モデルの検証方法とチューニング方法\n",
    "# 10-1 モデルの評価と精度を上げる方法とは\n",
    "## 10-1-1 機械学習の課題とアプローチ"
   ]
  },
  {
   "cell_type": "markdown",
   "metadata": {},
   "source": []
  }
 ],
 "metadata": {
  "language_info": {
   "name": "python"
  }
 },
 "nbformat": 4,
 "nbformat_minor": 2
}
